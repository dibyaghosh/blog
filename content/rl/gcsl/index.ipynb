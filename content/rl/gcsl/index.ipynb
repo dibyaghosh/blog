{
 "cells": [
  {
   "cell_type": "markdown",
   "metadata": {},
   "source": [
    "---\n",
    "title: Goal-Conditioned Supervised Learning\n",
    "date: 2020-06-10T17:16:50.000Z\n",
    "description: >-\n",
    "  A demonstration of Goal-Conditioned Supervised Learning (GCSL)\n",
    "summary: >-\n",
    "  A demonstration of Goal-Conditioned Supervised Learning (GCSL)\n",
    "image: assets/img/gcsl_teaser.png\n",
    "echo: false\n",
    "---"
   ]
  },
  {
   "cell_type": "markdown",
   "metadata": {
    "colab_type": "text",
    "id": "m0j9Anlrb8zV"
   },
   "source": [
    "# Goal-Conditioned Supervised Learning (GCSL)\n",
    "\n",
    "<a href=\"https://ibb.co/gz3HWFD\"><img src=\"https://i.ibb.co/J5K0pFz/gcsl-figure-arxiv.png\" alt=\"gcsl-figure-arxiv\" border=\"0\" /></a>\n",
    "\n",
    "This notebook provides a brief introduction to goal-conditioned supervised learning (GCSL), as introduced in \n",
    "> Dibya Ghosh, Abhishek Gupta, Justin Fu, Ashwin Reddy, Coline Devin, Benjamin Eysenbach, Sergey Levine. *Learning To Reach Goals Via Iterated Supervised Learning.*\n",
    "\n",
    "<a href=\"https://colab.research.google.com/github/notdibya/gcsl/blob/master/GCSLDemo.ipynb\" target=\"_parent\"><img src=\"https://camo.githubusercontent.com/52feade06f2fecbf006889a904d221e6a730c194/68747470733a2f2f636f6c61622e72657365617263682e676f6f676c652e636f6d2f6173736574732f636f6c61622d62616467652e737667\" alt=\"Open In Colab\" data-canonical-src=\"https://colab.research.google.com/assets/colab-badge.svg\"></a>\n",
    "\n",
    "\n",
    "In this notebook, we develop a simple instantiation of the GCSL algorithm for solving goal-reaching tasks on a simple 2d navigation task with discrete actions to explain the algorithm. For a codebase with more complete features, please see the Github repository linked below.\n",
    "\n",
    "Other useful links:\n",
    "- [ArXiv paper](https://arxiv.org/abs/1912.06088)\n",
    "- [Github](https://github.com/notdibya/gcsl/)\n",
    "- [Interactive Colab](https://colab.research.google.com/github/notdibya/gcsl/blob/master/GCSLDemo.ipynb) (follow along with the code)\n",
    "\n",
    "Let's get started!\n"
   ]
  },
  {
   "cell_type": "markdown",
   "metadata": {
    "colab_type": "text",
    "id": "p3sBsJDaXpel"
   },
   "source": [
    "## The Goal-Reaching Problem\n",
    "\n",
    "Goal-conditioned supervised learning (GCSL) is an algorithm for solving the problem of goal-reaching in an environment (formally, an MDP). \n",
    "\n",
    "At the beginning of each episode, a goal state $g$ is selected randomly in an environment and shown to the agent. The agent's goal is to reach this goal state by the end of the episode, which terminates after some fixed amount of time has passed.\n",
    "\n",
    "Each step, the agent must choose an action to take, given three pieces of information:\n",
    "\n",
    "1. The **state** the agent is currently at\n",
    "2. The **goal** the agent is trying to get to\n",
    "3. The amount of time the agent has left to reach the goal (the **horizon**)\n",
    "\n",
    "For example, here would be the pseudocode of an agent that takes actions randomly.\n",
    "\n",
    "```python\n",
    "class RandomAgent:\n",
    "  def get_action(self, state, goal, horizon):\n",
    "    return np.random.choice(n_actions) # Choose randomly\n",
    "```\n",
    "\n",
    "How can we train an agent $\\pi: (s, g, h) \\mapsto a$ to learn to reach goals in the environment? \n",
    "\n",
    "**Imitation Learning**: If (somehow) we had access to an optimal policy $\\pi^*$, that given any state $s$, goal $g$ and time horizon $h$, could return the optimal action $a^*$, we could just use supervised learning to try to match the actions of the expert (MLE). If actions were discrete, this would correspond to a classification problem, and if actions were continuous, this would correspond to a regression problem."
   ]
  },
  {
   "cell_type": "markdown",
   "metadata": {
    "colab_type": "text",
    "id": "-K0xJzWQdKOz"
   },
   "source": [
    "## Goal-Conditioned Supervised Learning (GCSL)\n",
    "\n",
    "Of course, we don't have access to the optimal policy $\\pi^*$ (wouldn't life be simple, then?). What can we do in the absence of this optimal policy? GCSL leverages the insight that even if we don't have access to the optimal policy, we can use **the principle of hindsight** to turn data that the agent has collected into \"optimal\" data.\n",
    "\n",
    "\n",
    "**The Principle of Hindsight**: Suppose the agent has just executed the following episode. It was commanded to reach the goal $g^*$, and ends up seeing the following states and taking the following actions\n",
    "\n",
    "$$s_0, a_0, s_1, a_1, s_2, \\dots s_{50}, a_{50}$$\n",
    "\n",
    "The agent might have done a terrible job at reaching $g^*$. It could be that the final state $s_{50}$ and $g^*$ are on opposite sides of the room. However, we know that the agent was able to successfully reach $s_{50}$, and we can use the data collected in the trajectory to teach the agent how to better get to $s_{50}$. \n",
    "\n",
    "For that matter, the agent was also able to reach $s_{49}, s_{48}, \\dots$, and we can use this data to learn how to reach all of these states  more accurately.\n",
    "\n",
    "More precisely, consider any two timesteps $t_1$ and $t_2$ ($t_1 < t_2$). We know that after the agent took action $a_{t_1}$ in state $s_{t_1}$, it reached the state $s_{t_2}$ after $t_2-t_1$ timesteps. This means that we can treat $a_{t_1}$ as being **optimal** behavior at $s_{t_1}$ when trying to reach $s_{t_2}$ in $t_2 - t_1$ timesteps.\n",
    "\n",
    "**GCSL:** Given the principle of hindsight, we can now introduce GCSL, the algorithm. Each iteration, the agent performs the following three steps:\n",
    "\n",
    "1. Collects a trajectory with the current agent $\\pi_k$\n",
    "2. Picks many choices of $t_1,t_2$ to create a dataset $\\mathcal{D}$ of optimal data $\\mathbf{x} = (s=s_{t_1}, g=s_{t_2}, h=t_2-t_1)$ and $\\mathbf{y} = a_{t_1}$.\n",
    "3. Performs supervised learning (classification or regression depending on discrete actions) to have the policy produce output $\\mathbf{y}$ when provided input $\\mathbf{x}$ to create a better policy $\\pi_{k+1}$\n",
    "\n",
    "Formally, the policy is performing maximum-likelihood estimation (MLE) via supervised learning.\n",
    "\n",
    "$$\\arg\\max_\\theta \\mathbb{E}_{((s,g,h), a) \\sim \\mathcal{D}}[\\log \\pi_\\theta(a | s=s, g=g, h=h)]$$"
   ]
  },
  {
   "cell_type": "markdown",
   "metadata": {
    "colab_type": "text",
    "id": "E_6kifzpf9iq"
   },
   "source": [
    "## GCSL in Code\n",
    "\n",
    "Now having provided a general overview of the algorithm, let's see a simple implementation of GCSL with a neural network agent trained in Pytorch, learning to reach goals in a pointmass navigation environment. "
   ]
  },
  {
   "cell_type": "code",
   "execution_count": 3,
   "metadata": {
    "colab": {},
    "colab_type": "code",
    "id": "AaRJqidtb7_V"
   },
   "outputs": [],
   "source": [
    "# HIDDEN\n",
    "import torch\n",
    "import torch.nn as nn\n",
    "\n",
    "import numpy as np\n",
    "import matplotlib.pyplot as plt\n",
    "\n",
    "import gym"
   ]
  },
  {
   "cell_type": "markdown",
   "metadata": {
    "colab_type": "text",
    "id": "y3mSscqSiUBu"
   },
   "source": [
    "## The Environment\n",
    "We use a navigation task in a room to illustrate GCSL. The agent, which gets to observe its $(x,y)$ coordinates, can take one of 5 actions: go up, right, down, left or stay still.\n",
    "\n",
    "\n",
    "The environment defined below is simply a normal Gym env, but with one new function:\n",
    "- `env.sample_goal()`: To define the goal reaching task, we need a notion of what goals the agent should try to reach. This function samples one such *desired goal*. In this case, a goal position is chosen randomly in the room.\n",
    "\n",
    "We also implement a helper function for visualizing data from this environment. The agent starts in the blue square, and attempts to reach the orange star."
   ]
  },
  {
   "cell_type": "code",
   "execution_count": 8,
   "metadata": {},
   "outputs": [],
   "source": [
    "class PointmassEnv(gym.Env):\n",
    "  def __init__(self):\n",
    "    self.observation_space = gym.spaces.Box(-1, 1, shape=(2,))\n",
    "    self.action_space = gym.spaces.Discrete(5)\n",
    "    ...\n",
    "\n",
    "  def reset(self):\n",
    "    # Resets the agent to the center of the room, and returns state\n",
    "    ...\n",
    "\n",
    "  def step(self, action):\n",
    "    # Given an action in {0, 1, 2, 3, 4}\n",
    "    # Take a step in the direction.\n",
    "    # Returns (next_state, reward, done, extra_info)\n",
    "    ...\n",
    "\n",
    "  def sample_goal(self):\n",
    "    # Samples a random position in the room\n",
    "    ...\n",
    "\n",
    "def plot_trajectory(trajectory):\n",
    "    # Plots an episode in the room\n",
    "    ..."
   ]
  },
  {
   "cell_type": "code",
   "execution_count": 12,
   "metadata": {
    "cellView": "form",
    "colab": {
     "base_uri": "https://localhost:8080/",
     "height": 282
    },
    "colab_type": "code",
    "id": "iYMzlA9kd1C-",
    "outputId": "8839f7b1-c570-4adc-eb23-d85f0cffc942"
   },
   "outputs": [
    {
     "data": {
      "image/png": "[encoded data removed]",
      "text/plain": [
       "<matplotlib.figure.Figure at 0x7fee679ea7f0>"
      ]
     },
     "metadata": {
      "needs_background": "light"
     },
     "output_type": "display_data"
    }
   ],
   "source": [
    "#| code-fold: true\n",
    "#| code-summary: \"Show code\"\n",
    "\n",
    "class PointmassEnv(gym.Env):\n",
    "  def __init__(self):\n",
    "    # 2-d coordinates\n",
    "    self.observation_space = gym.spaces.Box(-1, 1, shape=(2,), dtype=np.float32)\n",
    "    self.position = np.zeros(2) \n",
    "    # Up, Right, Down, Left, Stay\n",
    "    self.action_space = gym.spaces.Discrete(5)\n",
    "\n",
    "  def reset(self):\n",
    "    self.position = np.zeros(2)\n",
    "    return self.position\n",
    "\n",
    "  def action_to_direction(self, a):\n",
    "    actions = [\n",
    "               np.array([0, 1]), # Up\n",
    "               np.array([1, 0]), # Right\n",
    "               np.array([0, -1]), # Down\n",
    "               np.array([-1, 0]), # Left,\n",
    "               np.array([0, 0]), # Stay still\n",
    "    ]\n",
    "    return actions[a]\n",
    "  \n",
    "  def step(self, a):\n",
    "    direction = self.action_to_direction(a)\n",
    "    step = 0.05 * direction + np.random.randn() * 0.01 # Take a noisy step in direction\n",
    "    self.position = self.position + step\n",
    "    self.position = np.clip(self.position, -1, 1) # Clip to prevent object from escaping\n",
    "    return (self.position, # State\n",
    "          0,     # Reward (not necessary for GCSL)\n",
    "          False, # Done flag\n",
    "          dict()) # Additional info \n",
    "\n",
    "  def sample_goal(self):\n",
    "    return np.random.rand(2) * 2 - 1 # Sample uniformly from [-1, 1]\n",
    "\n",
    "\n",
    "def plot_trajectory(trajectory, ax=None):\n",
    "  if ax is None:\n",
    "    ax = plt.gca()\n",
    "  # Draw path\n",
    "  ax.plot(*trajectory['states'].T)\n",
    "  # Draw goal\n",
    "  ax.scatter(0, 0, s=200, marker='s')\n",
    "  ax.scatter(trajectory['desired_goal'][0], trajectory['desired_goal'][1], s=400, marker='*')\n",
    "  # Draw boundary\n",
    "  ax.vlines([-1, 1], -1, 1)\n",
    "  ax.hlines([-1, 1], -1, 1)\n",
    "\n",
    "  ax.set_xlim(-1.05, 1.05)\n",
    "  ax.set_ylim(-1.05, 1.05)\n",
    "  ax.axis('off')\n",
    "\n",
    "env = PointmassEnv()\n",
    "plot_trajectory(dict(states=env.reset()[None], desired_goal=env.sample_goal()))\n",
    "plt.axis('on');"
   ]
  },
  {
   "cell_type": "markdown",
   "metadata": {
    "colab_type": "text",
    "id": "d3kny1ATEvD8"
   },
   "source": [
    "## The Agent\n",
    "\n",
    "Our agent must choose an action to take, given three pieces of information\n",
    "1. The **state** the agent is currently at\n",
    "2. The **goal** the agent is trying to get to\n",
    "3. The amount of time the agent has left to reach the goal (the **horizon**)\n",
    "\n",
    "Our agent's policy will be determined by a neural network. This agent takes in the state, goal, and horizon; concatenates them all together; and feeds this input into a neural network with two hidden layers of size 100 each. The neural network outputs logits for each action. The agent will sample according to the logits to output the action.\n"
   ]
  },
  {
   "cell_type": "code",
   "execution_count": 13,
   "metadata": {
    "cellView": "form",
    "colab": {},
    "colab_type": "code",
    "id": "ADPSIvYTggLq"
   },
   "outputs": [],
   "source": [
    "\n",
    "class NNAgent(nn.Module):\n",
    "  def __init__(self):\n",
    "    super().__init__()\n",
    "    self.net = nn.Sequential(\n",
    "      nn.Linear(5, 100), # Input 2 (state) + 2 (goal) + 1 (horizon)\n",
    "      nn.ReLU(),\n",
    "      nn.Linear(100, 100),\n",
    "      nn.ReLU(),\n",
    "      nn.Linear(100, 5), # Output: 5 actions\n",
    "      )\n",
    "  \n",
    "  def forward(self, state, goal, horizon):\n",
    "    horizon = horizon / 50 # Normalize between [0, 1]\n",
    "    x = torch.cat([state, goal, horizon], -1)\n",
    "    logits = self.net(x)\n",
    "    return logits\n",
    "  \n",
    "  def get_action(self, state, goal, horizon):\n",
    "    # Put into PyTorch Notation\n",
    "    state_torch, goal_torch, horizon_torch = to_torch(state, goal, horizon)\n",
    "    logits_torch = self.forward(state_torch, goal_torch, horizon_torch)[0]\n",
    "    probabilities_torch = torch.softmax(logits_torch, -1)\n",
    "    probabilities = probabilities_torch.detach().numpy()\n",
    "    \n",
    "    return np.random.choice(5, p=probabilities)\n",
    "  \n",
    "\n",
    "def to_torch(state, goal, horizon):\n",
    "  state_torch = torch.tensor(state, dtype=torch.float32)[None]\n",
    "  goal_torch = torch.tensor(goal, dtype=torch.float32)[None]\n",
    "  horizon_torch = torch.tensor(horizon, dtype=torch.float32)[None, None]\n",
    "  return state_torch, goal_torch, horizon_torch"
   ]
  },
  {
   "cell_type": "markdown",
   "metadata": {
    "colab_type": "text",
    "id": "BuOS3Qu0JJiO"
   },
   "source": [
    "## Acting in the Environment\n",
    "\n",
    "At the beginning of each episode, we choose a desired goal (according to `env.sample_goal()`). The agent interacts with the environment (in the typical RL fashion) trying to reach this goal by the last timestep of this episode (total 50 timesteps).\n",
    "\n",
    "The function `sample_trajectory(env, agent)` executes an episode according to the above logic and returns the states seen, the actions the agent took, and what the desired goal was.\n"
   ]
  },
  {
   "cell_type": "code",
   "execution_count": 0,
   "metadata": {
    "cellView": "form",
    "colab": {},
    "colab_type": "code",
    "id": "j81noQG7JBTz"
   },
   "outputs": [],
   "source": [
    "def sample_trajectory(env, agent, T=50):\n",
    "  # Sample a target goal (fixed for episode)\n",
    "  desired_goal = env.sample_goal()\n",
    "\n",
    "  # Default control loop\n",
    "  state = env.reset()\n",
    "  states = []\n",
    "  actions = []\n",
    "  for i in range(T):\n",
    "    states.append(state)\n",
    "\n",
    "    action = agent.get_action(state=state,\n",
    "                              goal=desired_goal,\n",
    "                              horizon=np.array(T-i, dtype=float))\n",
    "    actions.append(action)\n",
    "\n",
    "    state, _, _, _ = env.step(action)\n",
    "\n",
    "  return {\n",
    "      'states': np.array(states),  \n",
    "      'actions': np.array(actions),\n",
    "      'desired_goal': desired_goal,\n",
    "  }\n",
    "\n"
   ]
  },
  {
   "cell_type": "markdown",
   "metadata": {
    "colab_type": "text",
    "id": "Jjv2HE_Bmsh5"
   },
   "source": [
    "We also write some code to evaluate the performance of the agent. We will measure performance according to how far the agent was from the desired goal at the final state in the episode.\n",
    "\n",
    "- `evaluate_agent` collects 50 episodes, and prints the median distance to goal for the agent.\n",
    "- `visualize_agent` visualizes 5 different episodes, each with a different goal, for the agent.\n",
    "\n"
   ]
  },
  {
   "cell_type": "code",
   "execution_count": 0,
   "metadata": {
    "colab": {},
    "colab_type": "code",
    "id": "sSe7Z8ebmsG5"
   },
   "outputs": [],
   "source": [
    "def evaluate_agent(env, agent, n=50):\n",
    "  distances = []\n",
    "  for _ in range(n):\n",
    "    trajectory = sample_trajectory(env, agent)\n",
    "    distances.append(np.linalg.norm(trajectory['states'][-1] - trajectory['desired_goal']))\n",
    "  print('Median Distance to Goal:  %.3f'% np.median(distances))\n",
    "  print('Min Distance to Goal:  %.3f'% np.min(distances))\n",
    "  print('Max Distance to Goal:  %.3f'% np.max(distances))\n",
    "\n",
    "def visualize_agent(env, agent):\n",
    "  fig, axes = plt.subplots(1, 5, figsize=(15, 3))\n",
    "  for ax in axes:\n",
    "    plot_trajectory(sample_trajectory(env, agent), ax=ax)\n",
    "  "
   ]
  },
  {
   "cell_type": "code",
   "execution_count": 18,
   "metadata": {
    "colab": {
     "base_uri": "https://localhost:8080/",
     "height": 245
    },
    "colab_type": "code",
    "id": "zUYOFv236K-y",
    "outputId": "f39249f4-83b2-42db-be20-c6ed2920889f"
   },
   "outputs": [
    {
     "name": "stdout",
     "output_type": "stream",
     "text": [
      "Median Distance to Goal:  0.780\n",
      "Min Distance to Goal:  0.195\n",
      "Max Distance to Goal:  1.566\n"
     ]
    },
    {
     "data": {
      "image/png": "[encoded data removed]",
      "text/plain": [
       "<Figure size 1080x216 with 5 Axes>"
      ]
     },
     "metadata": {
      "needs_background": "light",
      "tags": []
     },
     "output_type": "display_data"
    }
   ],
   "source": [
    "env = PointmassEnv()\n",
    "agent = NNAgent()\n",
    "\n",
    "evaluate_agent(env, agent)\n",
    "visualize_agent(env, agent)"
   ]
  },
  {
   "cell_type": "markdown",
   "metadata": {
    "colab_type": "text",
    "id": "KFE4V2GGC5LF"
   },
   "source": [
    "## Learning a Policy using GCSL (A Code Description)\n",
    "\n",
    "Now that we've established the basics of what an *agent* is, how it interacts with the environment, and how to evaluate the agent, let's actually train a policy!\n",
    "\n",
    "Suppose that the agent has already collected some trajectories in its buffer.\n",
    "```\n",
    "buffer = []\n",
    "for i in range(10):\n",
    "  buffer.append(sample_trajectory(env, agent))\n",
    "```\n",
    "\n",
    "When training the policy, we will sample a trajectory randomly from the dataset\n",
    "```\n",
    "trajectory = buffer[np.random.choice(len(buffer))]\n",
    "```\n",
    "Choose two time-steps randomly on this path $t_1 < t_2$ (remember, hindsight works for any trajectory and any such pair).\n",
    "```\n",
    "t1, t2 = np.random.randint(0, 50, size=2)\n",
    "t1, t2 = min([t1, t2]), max([t1, t2])\n",
    "```\n",
    "\n",
    "If we define\n",
    "- `s` to be the state at t1\n",
    "- `a` to be the action at t1\n",
    "- `g` to be the state at t2\n",
    "- `h` to be t2 - t1\n",
    "\n",
    "```\n",
    "s = trajectory['states'][t1]\n",
    "a = trajectory['actions'][t1]\n",
    "g = trajectory['states'][t2]\n",
    "h = t2 - t1\n",
    "```\n",
    "\n",
    "\n",
    "Then `a` is a good action to go from `s` to `g` in `h` timesteps.\n",
    "\n",
    "Because of this, we can treat it as expert data for `agent(state=s, goal=g, horizon=h)`, and try to match it using the classification loss.\n",
    "\n",
    "\n",
    "```\n",
    "  loss = nn.functional.cross_entropy(agent(s, g, h), a)\n",
    "```\n",
    "\n",
    "This leads to the following code-block that fully describes the GCSL algorithm:"
   ]
  },
  {
   "cell_type": "code",
   "execution_count": 20,
   "metadata": {
    "colab": {
     "base_uri": "https://localhost:8080/",
     "height": 602
    },
    "colab_type": "code",
    "id": "zRhhZTINC20w",
    "outputId": "df698b8d-a3aa-4814-a7df-4d589806bc6e"
   },
   "outputs": [
    {
     "name": "stdout",
     "output_type": "stream",
     "text": [
      "##### Episode 0 #####\n",
      "Median Distance to Goal:  0.756\n",
      "Min Distance to Goal:  0.098\n",
      "Max Distance to Goal:  1.400\n",
      "##### Episode 40 #####\n",
      "Median Distance to Goal:  0.357\n",
      "Min Distance to Goal:  0.037\n",
      "Max Distance to Goal:  1.073\n",
      "##### Episode 80 #####\n",
      "Median Distance to Goal:  0.135\n",
      "Min Distance to Goal:  0.016\n",
      "Max Distance to Goal:  0.500\n",
      "##### Episode 120 #####\n",
      "Median Distance to Goal:  0.128\n",
      "Min Distance to Goal:  0.003\n",
      "Max Distance to Goal:  0.283\n",
      "##### Episode 160 #####\n",
      "Median Distance to Goal:  0.096\n",
      "Min Distance to Goal:  0.010\n",
      "Max Distance to Goal:  0.372\n",
      "##### Episode 200 #####\n",
      "Median Distance to Goal:  0.100\n",
      "Min Distance to Goal:  0.015\n",
      "Max Distance to Goal:  0.251\n"
     ]
    },
    {
     "data": {
      "image/png": "[encoded data removed]",
      "text/plain": [
       "<Figure size 1080x216 with 5 Axes>"
      ]
     },
     "metadata": {
      "needs_background": "light",
      "tags": []
     },
     "output_type": "display_data"
    }
   ],
   "source": [
    "# Create agent and optimizer\n",
    "\n",
    "agent = NNAgent()\n",
    "learning_rate = 1e-4\n",
    "optimizer = torch.optim.Adam(agent.parameters(), lr=learning_rate)\n",
    "\n",
    "buffer = []\n",
    "n_episodes = 201\n",
    "n_steps_per_episode = 500\n",
    "\n",
    "for episode in range(n_episodes):\n",
    "  # Collect more data and put it in the replay buffer\n",
    "  new_trajectory = sample_trajectory(env, agent)\n",
    "  buffer.append(new_trajectory)\n",
    "\n",
    "  # GCSL optimization  \n",
    "  for step in range(n_steps_per_episode):\n",
    "\n",
    "    # Sample a trajectory and timesteps\n",
    "    trajectory = buffer[np.random.choice(len(buffer))]\n",
    "    t1, t2 = np.random.randint(0, 50, size=2)\n",
    "    t1, t2 = min([t1, t2]), max([t1, t2])\n",
    "\n",
    "    # Create optimal ((s, g, h), a) data\n",
    "    s = trajectory['states'][t1]\n",
    "    g = trajectory['states'][t2]\n",
    "    h = t2 - t1\n",
    "    a = trajectory['actions'][t1]\n",
    "\n",
    "    s, g, h = to_torch(s, g, h)\n",
    "    a = torch.tensor(a)[None]\n",
    "\n",
    "    # Optimize agent(s, g, h) to imitate action a \n",
    "    optimizer.zero_grad()\n",
    "    loss = nn.functional.cross_entropy(agent(s, g, h), a)\n",
    "    loss.backward()\n",
    "    optimizer.step()\n",
    "\n",
    "  # Print agent performance once in a while\n",
    "  if episode % 40 == 0:\n",
    "    print('##### Episode %d #####'%episode)\n",
    "    evaluate_agent(env, agent)\n",
    "\n",
    "visualize_agent(env, agent)"
   ]
  },
  {
   "cell_type": "markdown",
   "metadata": {
    "colab_type": "text",
    "id": "z-wm1ClwR-ES"
   },
   "source": [
    "When you run the previous cell, you should see the GCSL agent learning how to reach all the states in the room! And that's it!\n",
    "\n",
    "If you're interested in learning more about how *why* this simple procedure works, check out our [paper](https://arxiv.org/abs/1912.06088). If you're looking to apply the algorithm on larger domains, check out our [Github repository](https://github.com/notdibya/gcsl)\n",
    "\n",
    "\n"
   ]
  }
 ],
 "metadata": {
  "colab": {
   "collapsed_sections": [],
   "name": "GCSLDemo.ipynb",
   "provenance": []
  },
  "kernelspec": {
   "display_name": "Python 3",
   "language": "python",
   "name": "python3"
  },
  "language_info": {
   "codemirror_mode": {
    "name": "ipython",
    "version": 3
   },
   "file_extension": ".py",
   "mimetype": "text/x-python",
   "name": "python",
   "nbconvert_exporter": "python",
   "pygments_lexer": "ipython3",
   "version": "3.5.2"
  }
 },
 "nbformat": 4,
 "nbformat_minor": 1
}
